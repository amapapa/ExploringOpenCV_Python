{
 "cells": [
  {
   "cell_type": "code",
   "execution_count": 1,
   "metadata": {},
   "outputs": [],
   "source": [
    "import numpy as np\n",
    "import matplotlib.pyplot as plt\n",
    "import pandas as pd\n",
    "import cv2"
   ]
  },
  {
   "cell_type": "code",
   "execution_count": 2,
   "metadata": {
    "collapsed": true
   },
   "outputs": [],
   "source": [
    "img =    cv2.imread(\"./puppy.jpg\",cv2.IMREAD_GRAYSCALE)\n",
    "# img =    cv2.imread(\"./puppy.jpg\",cv2.IMREAD_REDUCED_COLOR_4)\n",
    "#IMREAD_COLOR\n",
    "#IMREAD_UNCHANGED\n"
   ]
  },
  {
   "cell_type": "code",
   "execution_count": null,
   "metadata": {},
   "outputs": [],
   "source": [
    "## Show the image in matplotlib\n",
    "\n",
    "cv2.imshow('image grayscale',img)\n",
    "cv2.waitKey(0)\n",
    "cv2.destroyAllWindows()\n",
    "\n",
    "# plt.imshow(img, cmap='gray',interpolation='bicubic')\n",
    "# # plt.plot([300,100],[50,100],'c',linewidth=5)\n",
    "# plt.show()"
   ]
  },
  {
   "cell_type": "code",
   "execution_count": null,
   "metadata": {},
   "outputs": [],
   "source": [
    "flags = [i for i in dir(cv2) if i.startswith('COLOR_')]\n",
    "flags"
   ]
  },
  {
   "cell_type": "code",
   "execution_count": 14,
   "metadata": {},
   "outputs": [
    {
     "name": "stdout",
     "output_type": "stream",
     "text": [
      "Iscamera on ?  True\n",
      "Total frames 148\n",
      "Is camera on ?  False\n"
     ]
    }
   ],
   "source": [
    "## Capture Webcam\n",
    "cap=cv2.VideoCapture(0)\n",
    "count = 0\n",
    "## write the output\n",
    "\n",
    "codec = cv2.VideoWriter_fourcc(*'XVID')\n",
    "out = cv2.VideoWriter('output.avi',codec,20.0,(640,480))\n",
    "\n",
    "while True:\n",
    "    ret, frame = cap.read()\n",
    "#     cv2.imshow('frame',frame)\n",
    "    gray=cv2.cvtColor(frame, cv2.COLOR_BGR2GRAY)\n",
    "    \n",
    "    cv2.imshow('frame',frame)\n",
    "    count += 1\n",
    "    out.write(frame)\n",
    "    cv2.imshow('gray scale',gray)\n",
    "    \n",
    "    if cv2.waitKey(1) & 0xFF == ord('q'):\n",
    "        print(\"Iscamera on ? \",cap.isOpened())\n",
    "        print(\"Total frames\",count)\n",
    "        break\n",
    "        \n",
    "cap.release()\n",
    "print(\"Is camera on ? \",cap.isOpened())\n",
    "cv2.destroyAllWindows()\n",
    "out.release()\n",
    "cv2.destroyAllWindows()"
   ]
  },
  {
   "cell_type": "code",
   "execution_count": 6,
   "metadata": {},
   "outputs": [
    {
     "data": {
      "text/plain": [
       "False"
      ]
     },
     "execution_count": 6,
     "metadata": {},
     "output_type": "execute_result"
    }
   ],
   "source": []
  },
  {
   "cell_type": "code",
   "execution_count": null,
   "metadata": {
    "collapsed": true
   },
   "outputs": [],
   "source": []
  }
 ],
 "metadata": {
  "kernelspec": {
   "display_name": "Python 3",
   "language": "python",
   "name": "python3"
  },
  "language_info": {
   "codemirror_mode": {
    "name": "ipython",
    "version": 3
   },
   "file_extension": ".py",
   "mimetype": "text/x-python",
   "name": "python",
   "nbconvert_exporter": "python",
   "pygments_lexer": "ipython3",
   "version": "3.6.3"
  }
 },
 "nbformat": 4,
 "nbformat_minor": 2
}
